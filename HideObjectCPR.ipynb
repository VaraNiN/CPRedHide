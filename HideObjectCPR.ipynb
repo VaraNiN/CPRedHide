{
 "cells": [
  {
   "cell_type": "code",
   "execution_count": 1,
   "id": "d7e8c874",
   "metadata": {},
   "outputs": [
    {
     "name": "stdout",
     "output_type": "stream",
     "text": [
      "The skill difference between concealer and revealer is: 0\n",
      "Positive means concealer is better.\n",
      "\n",
      "Chance to hide 1 objects is: 55.03%\n",
      "Chance to hide 2 objects is: 20.43%\n",
      "Chance to hide 3 objects is: 6.80%\n",
      "Chance to hide 4 objects is: 2.18%\n",
      "Chance to hide 5 objects is: 0.67%\n",
      "Chance to hide 6 objects is: 0.21%\n",
      "Chance to hide 7 objects is: 0.06%\n",
      "Chance to hide 8 objects is: 0.02%\n",
      "Chance to hide 9 objects is: 0.01%\n",
      "Chance to hide 10 objects is: 0.00%\n"
     ]
    }
   ],
   "source": [
    "# THIS IS AMATEUR CODE - USE AT YOUR OWN RISK!!!\n",
    "# DO NOT EXECUTE CODE AN INTERNET STRANGER GAVE YOU WITHOUT READING WHAT IT DOES FIRST!\n",
    "# THEREFORE, PLEASE DO SO! I AM NOT RESPONSIBLE IF YOUR COMPUTER BREAKS!\n",
    "import numpy as np\n",
    "\n",
    "SkillDifference = 0   # Positive if concealer is better than revealer\n",
    "MaxObjects = 10\n",
    "Iterations = 1e6\n",
    "\n",
    "\n",
    "\n",
    "Iterations = int(Iterations)\n",
    "ConcealSuccess = np.zeros(MaxObjects)\n",
    "Conceal = np.random.randint(1, 11, size = (Iterations, MaxObjects)) + SkillDifference\n",
    "Reveal  = np.random.randint(1, 11, size = (Iterations, MaxObjects))\n",
    "\n",
    "print(\"The skill difference between concealer and revealer is: %i\\nPositive means concealer is better.\\n\" %SkillDifference)\n",
    "for i in range(MaxObjects):\n",
    "    MinConceal = np.min(Conceal[:, 0:(i+1)], axis = 1)\n",
    "    MaxReveal  = np.max(Reveal[:, 0:(i+1)],  axis = 1)\n",
    "    ConcealSuccess[i] = np.sum(MaxReveal > MinConceal)\n",
    "    print(\"Chance to hide %i objects is: %.2f%%\" %((i+1), (1 - ConcealSuccess[i]/Iterations) * 100.))"
   ]
  }
 ],
 "metadata": {
  "kernelspec": {
   "display_name": "Python 3 (ipykernel)",
   "language": "python",
   "name": "python3"
  },
  "language_info": {
   "codemirror_mode": {
    "name": "ipython",
    "version": 3
   },
   "file_extension": ".py",
   "mimetype": "text/x-python",
   "name": "python",
   "nbconvert_exporter": "python",
   "pygments_lexer": "ipython3",
   "version": "3.7.16"
  }
 },
 "nbformat": 4,
 "nbformat_minor": 5
}
