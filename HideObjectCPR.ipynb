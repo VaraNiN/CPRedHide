{
 "cells": [
  {
   "cell_type": "code",
   "execution_count": 1,
   "id": "215887ef",
   "metadata": {},
   "outputs": [
    {
     "name": "stdout",
     "output_type": "stream",
     "text": [
      "Format: Hide Percentage (Number of Objects)\n",
      "For each additional object, hider has to roll an additional die, taking the worst result\n",
      "For each additional objects, revealer gets to roll an additional die, taking the best result.\n",
      "Positive Skill difference means the hider is better.\n",
      "\n",
      "Skill difference = -5:\t14.91%(1)\t01.60%(2)\t00.14%(3)\t00.02%(4)\t00.00%(5)\n",
      "Skill difference = -4:\t20.87%(1)\t03.05%(2)\t00.38%(3)\t00.05%(4)\t00.01%(5)\n",
      "Skill difference = -3:\t27.83%(1)\t05.32%(2)\t00.92%(3)\t00.14%(4)\t00.02%(5)\n",
      "Skill difference = -2:\t35.99%(1)\t08.77%(2)\t01.94%(3)\t00.42%(4)\t00.08%(5)\n",
      "Skill difference = -1:\t45.01%(1)\t13.61%(2)\t03.63%(3)\t00.96%(4)\t00.23%(5)\n",
      "Skill difference = 0:\t54.99%(1)\t20.17%(2)\t06.53%(3)\t02.06%(4)\t00.64%(5)\n",
      "Skill difference = 1:\t64.08%(1)\t28.52%(2)\t11.30%(3)\t04.31%(4)\t01.60%(5)\n",
      "Skill difference = 2:\t72.12%(1)\t38.50%(2)\t18.37%(3)\t08.38%(4)\t03.74%(5)\n",
      "Skill difference = 3:\t79.07%(1)\t49.20%(2)\t27.65%(3)\t14.84%(4)\t07.68%(5)\n",
      "Skill difference = 4:\t85.12%(1)\t60.38%(2)\t39.24%(3)\t24.45%(4)\t14.66%(5)\n",
      "Skill difference = 5:\t90.16%(1)\t71.33%(2)\t52.48%(3)\t37.16%(4)\t25.70%(5)\n"
     ]
    }
   ],
   "source": [
    "# THIS IS AMATEUR CODE - USE AT YOUR OWN RISK!!!\n",
    "# DO NOT EXECUTE CODE AN INTERNET STRANGER GAVE YOU WITHOUT READING WHAT IT DOES FIRST!\n",
    "# THEREFORE, PLEASE DO SO! I AM NOT RESPONSIBLE IF YOUR COMPUTER BREAKS!\n",
    "import numpy as np\n",
    "\n",
    "MaxSkillDifference = 5\n",
    "MaxObjects = 5\n",
    "Iterations = 1e5\n",
    "\n",
    "\n",
    "\n",
    "Iterations = int(Iterations)\n",
    "ConcealSuccess = np.zeros((2*MaxSkillDifference+1, MaxObjects))\n",
    "Conceal = np.random.randint(1, 11, size = (Iterations, MaxObjects))\n",
    "Reveal  = np.random.randint(1, 11, size = (Iterations, MaxObjects))\n",
    "\n",
    "for j in range(2*MaxSkillDifference+1):\n",
    "    for i in range(MaxObjects):\n",
    "        MinConceal = np.min(Conceal[:, 0:(i+1)], axis = 1) + (j - MaxSkillDifference)\n",
    "        MaxReveal  = np.max(Reveal[:, 0:(i+1)],  axis = 1)\n",
    "        ConcealSuccess[j, i] = 100. * np.sum(MinConceal >= MaxReveal)/Iterations\n",
    "\n",
    "print(\"Format: Hide Percentage (Number of Objects)\")\n",
    "print(\"For each additional object, hider has to roll an additional die, taking the worst result\")\n",
    "print(\"For each additional objects, revealer gets to roll an additional die, taking the best result.\")\n",
    "print(\"Positive Skill difference means the hider is better.\\n\")\n",
    "for j in range(2*MaxSkillDifference+1):\n",
    "    print(\"Skill difference = %i:\\t\" %(j - MaxSkillDifference), end='')\n",
    "    for i in range(MaxObjects):\n",
    "        if i != MaxObjects-1:\n",
    "            print(\"%05.2f%%(%i)\\t\" %(ConcealSuccess[j, i], i+1), end='')\n",
    "        else:\n",
    "            print(\"%05.2f%%(%i)\" %(ConcealSuccess[j, i], i+1))"
   ]
  },
  {
   "cell_type": "code",
   "execution_count": 2,
   "id": "c2f7343f",
   "metadata": {},
   "outputs": [
    {
     "name": "stdout",
     "output_type": "stream",
     "text": [
      "Format: Hide Percentage (Number of Objects)\n",
      "For each additional object, hider has to roll an additional die, taking the worst result\n",
      "For each additional object, hider gets a penalty of 2\n",
      "Positive Skill difference means the hider is better.\n",
      "\n",
      "Skill difference = -5:\t15.09%(1)\t01.45%(2)\t00.01%(3)\t00.00%(4)\t00.00%(5)\n",
      "Skill difference = -4:\t21.14%(1)\t03.04%(2)\t00.09%(3)\t00.00%(4)\t00.00%(5)\n",
      "Skill difference = -3:\t28.10%(1)\t05.59%(2)\t00.35%(3)\t00.00%(4)\t00.00%(5)\n",
      "Skill difference = -2:\t36.03%(1)\t09.21%(2)\t00.96%(3)\t00.02%(4)\t00.00%(5)\n",
      "Skill difference = -1:\t45.14%(1)\t13.98%(2)\t02.22%(3)\t00.09%(4)\t00.00%(5)\n",
      "Skill difference = 0:\t55.31%(1)\t20.37%(2)\t04.36%(3)\t00.34%(4)\t00.00%(5)\n",
      "Skill difference = 1:\t64.11%(1)\t28.52%(2)\t07.72%(3)\t00.97%(4)\t00.03%(5)\n",
      "Skill difference = 2:\t72.13%(1)\t38.64%(2)\t12.83%(3)\t02.25%(4)\t00.12%(5)\n",
      "Skill difference = 3:\t79.11%(1)\t48.47%(2)\t20.18%(3)\t04.59%(4)\t00.44%(5)\n",
      "Skill difference = 4:\t85.11%(1)\t58.08%(2)\t30.26%(3)\t08.62%(4)\t01.22%(5)\n",
      "Skill difference = 5:\t90.07%(1)\t67.12%(2)\t40.21%(3)\t15.31%(4)\t02.87%(5)\n"
     ]
    }
   ],
   "source": [
    "# THIS IS AMATEUR CODE - USE AT YOUR OWN RISK!!!\n",
    "# DO NOT EXECUTE CODE AN INTERNET STRANGER GAVE YOU WITHOUT READING WHAT IT DOES FIRST!\n",
    "# THEREFORE, PLEASE DO SO! I AM NOT RESPONSIBLE IF YOUR COMPUTER BREAKS!\n",
    "import numpy as np\n",
    "\n",
    "MaxSkillDifference = 5\n",
    "ObjectPenalty = 2     # Penalty for each additional object carried\n",
    "MaxObjects = 5\n",
    "Iterations = 1e5\n",
    "\n",
    "\n",
    "\n",
    "Iterations = int(Iterations)\n",
    "ConcealSuccess = np.zeros((2*MaxSkillDifference+1, MaxObjects))\n",
    "Conceal = np.random.randint(1, 11, size = (Iterations, MaxObjects))\n",
    "Reveal  = np.random.randint(1, 11, size = (Iterations, 1))\n",
    "\n",
    "for j in range(2*MaxSkillDifference+1):\n",
    "    for i in range(MaxObjects):\n",
    "        MinConceal = np.min(Conceal[:, 0:(i+1)], axis = 1) + (j - MaxSkillDifference)\n",
    "        MaxReveal  = Reveal.T + i*ObjectPenalty\n",
    "        ConcealSuccess[j, i] = 100. * np.sum(MinConceal >= MaxReveal)/Iterations\n",
    "\n",
    "print(\"Format: Hide Percentage (Number of Objects)\")\n",
    "print(\"For each additional object, hider has to roll an additional die, taking the worst result\")\n",
    "print(\"For each additional object, hider gets a penalty of %i\" %ObjectPenalty)\n",
    "print(\"Positive Skill difference means the hider is better.\\n\")\n",
    "for j in range(2*MaxSkillDifference+1):\n",
    "    print(\"Skill difference = %i:\\t\" %(j - MaxSkillDifference), end='')\n",
    "    for i in range(MaxObjects):\n",
    "        if i != MaxObjects-1:\n",
    "            print(\"%05.2f%%(%i)\\t\" %(ConcealSuccess[j, i], i+1), end='')\n",
    "        else:\n",
    "            print(\"%05.2f%%(%i)\" %(ConcealSuccess[j, i], i+1))"
   ]
  },
  {
   "cell_type": "code",
   "execution_count": 3,
   "id": "1e5994f8",
   "metadata": {},
   "outputs": [
    {
     "name": "stdout",
     "output_type": "stream",
     "text": [
      "Format: Hide Percentage (Number of Objects)\n",
      "For each additional object, hider gets a penalty of 4\n",
      "Positive Skill difference means the hider is better.\n",
      "\n",
      "Skill difference = -5:\t15.07%(1)\t00.99%(2)\t00.00%(3)\t00.00%(4)\t00.00%(5)\n",
      "Skill difference = -4:\t21.13%(1)\t02.96%(2)\t00.00%(3)\t00.00%(4)\t00.00%(5)\n",
      "Skill difference = -3:\t28.10%(1)\t05.98%(2)\t00.00%(3)\t00.00%(4)\t00.00%(5)\n",
      "Skill difference = -2:\t36.17%(1)\t10.01%(2)\t00.00%(3)\t00.00%(4)\t00.00%(5)\n",
      "Skill difference = -1:\t45.18%(1)\t15.07%(2)\t00.99%(3)\t00.00%(4)\t00.00%(5)\n",
      "Skill difference = 0:\t55.06%(1)\t21.13%(2)\t02.96%(3)\t00.00%(4)\t00.00%(5)\n",
      "Skill difference = 1:\t63.95%(1)\t28.10%(2)\t05.98%(3)\t00.00%(4)\t00.00%(5)\n",
      "Skill difference = 2:\t72.00%(1)\t36.17%(2)\t10.01%(3)\t00.00%(4)\t00.00%(5)\n",
      "Skill difference = 3:\t78.85%(1)\t45.18%(2)\t15.07%(3)\t00.99%(4)\t00.00%(5)\n",
      "Skill difference = 4:\t84.85%(1)\t55.06%(2)\t21.13%(3)\t02.96%(4)\t00.00%(5)\n",
      "Skill difference = 5:\t89.94%(1)\t63.95%(2)\t28.10%(3)\t05.98%(4)\t00.00%(5)\n"
     ]
    }
   ],
   "source": [
    "# THIS IS AMATEUR CODE - USE AT YOUR OWN RISK!!!\n",
    "# DO NOT EXECUTE CODE AN INTERNET STRANGER GAVE YOU WITHOUT READING WHAT IT DOES FIRST!\n",
    "# THEREFORE, PLEASE DO SO! I AM NOT RESPONSIBLE IF YOUR COMPUTER BREAKS!\n",
    "import numpy as np\n",
    "\n",
    "MaxSkillDifference = 5\n",
    "ObjectPenalty = 4     # Penalty for each additional object carried\n",
    "MaxObjects = 5\n",
    "Iterations = 1e5\n",
    "\n",
    "\n",
    "\n",
    "Iterations = int(Iterations)\n",
    "ConcealSuccess = np.zeros((2*MaxSkillDifference+1, MaxObjects))\n",
    "Conceal = np.random.randint(1, 11, size = (Iterations, 1))\n",
    "Reveal  = np.random.randint(1, 11, size = (Iterations, 1))\n",
    "\n",
    "for j in range(2*MaxSkillDifference+1):\n",
    "    for i in range(MaxObjects):\n",
    "        MinConceal = Conceal + (j - MaxSkillDifference)\n",
    "        MaxReveal  = Reveal + i*ObjectPenalty\n",
    "        ConcealSuccess[j, i] = 100. * np.sum(MinConceal >= MaxReveal)/Iterations\n",
    "\n",
    "print(\"Format: Hide Percentage (Number of Objects)\")\n",
    "print(\"For each additional object, hider gets a penalty of %i\" %ObjectPenalty)\n",
    "print(\"Positive Skill difference means the hider is better.\\n\")\n",
    "for j in range(2*MaxSkillDifference+1):\n",
    "    print(\"Skill difference = %i:\\t\" %(j - MaxSkillDifference), end='')\n",
    "    for i in range(MaxObjects):\n",
    "        if i != MaxObjects-1:\n",
    "            print(\"%05.2f%%(%i)\\t\" %(ConcealSuccess[j, i], i+1), end='')\n",
    "        else:\n",
    "            print(\"%05.2f%%(%i)\" %(ConcealSuccess[j, i], i+1))"
   ]
  },
  {
   "cell_type": "code",
   "execution_count": null,
   "id": "db9b1450",
   "metadata": {},
   "outputs": [],
   "source": []
  }
 ],
 "metadata": {
  "kernelspec": {
   "display_name": "Python 3 (ipykernel)",
   "language": "python",
   "name": "python3"
  },
  "language_info": {
   "codemirror_mode": {
    "name": "ipython",
    "version": 3
   },
   "file_extension": ".py",
   "mimetype": "text/x-python",
   "name": "python",
   "nbconvert_exporter": "python",
   "pygments_lexer": "ipython3",
   "version": "3.7.16"
  }
 },
 "nbformat": 4,
 "nbformat_minor": 5
}
